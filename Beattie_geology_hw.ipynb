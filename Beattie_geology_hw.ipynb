{
 "cells": [
  {
   "cell_type": "code",
   "execution_count": null,
   "id": "49f1a368-4a5d-42aa-945b-60b9bb1851de",
   "metadata": {},
   "outputs": [],
   "source": [
    "import numpy as np\n",
    "from matplotlib import pylab as plt\n",
    "\n",
    "#define linspace from 0 to 1 for fraction of forsterite\n",
    "fors_frac = np.linspace(0,1,100)\n",
    "\n",
    "#Calculate S_ol, H_ol from components?\n",
    "S_ol_mg = 52.05\n",
    "S_ol_fe = 69.6\n",
    "H_ol_mg = 113.1\n",
    "H_ol_fe = 109.9\n",
    "\n",
    "\n",
    "#From class:\n",
    "C_nm = 2/3\n",
    "C_sio2 = 1/3\n",
    "\n",
    "#Calculate D_ol from olivene melt composition...\n",
    "\n",
    "#gas constant\n",
    "R = 8.3145\n",
    "\n",
    "#assuming atmospheric pressure, and pure olivine/orthopyroxene, equation 10 and 11 of Beattie become:\n",
    "\n",
    "T_ol = (H_ol/R)/(S_ol/R+2*np.log(D_ol)+2*np.log(1.5*C_nm)+2*np.log(3*C_sio2))\n",
    "\n"
   ]
  }
 ],
 "metadata": {
  "kernelspec": {
   "display_name": "Python 3 (ipykernel)",
   "language": "python",
   "name": "python3"
  },
  "language_info": {
   "codemirror_mode": {
    "name": "ipython",
    "version": 3
   },
   "file_extension": ".py",
   "mimetype": "text/x-python",
   "name": "python",
   "nbconvert_exporter": "python",
   "pygments_lexer": "ipython3",
   "version": "3.8.10"
  }
 },
 "nbformat": 4,
 "nbformat_minor": 5
}
