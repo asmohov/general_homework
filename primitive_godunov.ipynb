{
 "cells": [
  {
   "cell_type": "code",
   "execution_count": 58,
   "id": "74706837-162c-4aef-a10f-e7d41746df3c",
   "metadata": {},
   "outputs": [
    {
     "name": "stdout",
     "output_type": "stream",
     "text": [
      "Beginning animation\n"
     ]
    },
    {
     "data": {
      "image/png": "[encoded data removed]",
      "text/plain": [
       "<Figure size 432x288 with 1 Axes>"
      ]
     },
     "metadata": {
      "needs_background": "light"
     },
     "output_type": "display_data"
    }
   ],
   "source": [
    "#basic imports\n",
    "import numpy as np\n",
    "from matplotlib import pylab as plt\n",
    "from celluloid import Camera as cam\n",
    "#define size of domain:\n",
    "n = 1000\n",
    "x_arr = np.linspace(0,1,n)\n",
    "dx = 1/n\n",
    "gamma=5/3\n",
    "\n",
    "#define time parameters\n",
    "t_current=0\n",
    "t_end = .2\n",
    "dt = 1e-4\n",
    "#set up array of initial conditions\n",
    "#conserved quantities are density,momentum,energy\n",
    "u_0= np.zeros((3,n))\n",
    "#left hand side\n",
    "u_0[0,0:int(.5*n)]=1 #density\n",
    "u_0[1,0:int(.5*n)]=0 #momentum\n",
    "u_0[2,0:int(.5*n)]=1/(gamma-1) #energy\n",
    "#right hand side\n",
    "u_0[0,int(.5*n):]=.1 #density\n",
    "u_0[1,int(.5*n):]=0 #momentum\n",
    "u_0[2,int(.5*n):]=.125/(gamma-1) #energy\n",
    "fig = plt.figure()\n",
    "Cam = cam(fig) #for movie making\n",
    "while t_current<=t_end:\n",
    "    #determine godunov F^n\n",
    "    F=np.zeros(u_0.shape)\n",
    "    rho = u_0[0,:] #intermediate density list\n",
    "    vel=(u_0[1,:]/u_0[0,:]) #intermediate velocity list\n",
    "    press=(gamma-1)*(u_0[2,:]-(rho/2*vel**2)) #intermediate pressure list\n",
    "    F[0,:]=u_0[1,:] #momentum\n",
    "    F[1,:]=rho*(vel**2)+press#rho*v^2+P\n",
    "    F[2,:]=vel*(u_0[2,:]+press)\n",
    "    #determine dFdx\n",
    "    dFdx=np.zeros(u_0.shape)\n",
    "    dFdx[0,1:-1]=F[0,0:-2]-F[0,2:]\n",
    "    dFdx[1,1:-1]=F[1,0:-2]-F[1,2:]\n",
    "    dFdx[2,1:-1]=F[2,0:-2]-F[2,2:]\n",
    "    #increment u,note we leave the boundaries the same\n",
    "    u_plus1 = u_0 #initialize u_plus1\n",
    "    u_plus1[0,1:-1]=.5*(u_0[0,0:-2]+u_0[0,2:])-(dt/(2*dx))*dFdx[0,1:-1]\n",
    "    u_plus1[1,1:-1]=.5*(u_0[1,0:-2]+u_0[1,2:])-(dt/(2*dx))*dFdx[1,1:-1]\n",
    "    u_plus1[2,1:-1]=.5*(u_0[2,0:-2]+u_0[2,2:])-(dt/(2*dx))*dFdx[2,1:-1]\n",
    "    #print(u_plus1)\n",
    "    u_0=u_plus1 #update u_0\n",
    "    #print(t_current)\n",
    "    plt.plot(x_arr,u_0[0],color='b')\n",
    "    Cam.snap()\n",
    "    t_current+=dt\n",
    "\n",
    "plt.plot(x_arr,u_0[0])\n",
    "\n",
    "print('Beginning animation')\n",
    "anim = Cam.animate(blit=False,interval=5)\n",
    "anim.save('hydro_hw.mp4')"
   ]
  }
 ],
 "metadata": {
  "kernelspec": {
   "display_name": "Python 3 (ipykernel)",
   "language": "python",
   "name": "python3"
  },
  "language_info": {
   "codemirror_mode": {
    "name": "ipython",
    "version": 3
   },
   "file_extension": ".py",
   "mimetype": "text/x-python",
   "name": "python",
   "nbconvert_exporter": "python",
   "pygments_lexer": "ipython3",
   "version": "3.8.10"
  }
 },
 "nbformat": 4,
 "nbformat_minor": 5
}
